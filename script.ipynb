{
 "cells": [
  {
   "cell_type": "code",
   "execution_count": null,
   "metadata": {},
   "outputs": [],
   "source": [
    "import pandas as pd\n",
    "df = pd.read_csv('NRW_soil.csv').dropna()\n",
    "df.style"
   ]
  },
  {
   "cell_type": "code",
   "execution_count": 26,
   "metadata": {},
   "outputs": [],
   "source": [
    "import random\n",
    "import csv\n",
    "country=['India','Africa','United States','Germany','France','Australia','China']\n",
    "Crop_Type=['Wheat','Sugar Cane','Paddy','Cotton','Apples','Maze','Plam Oil']\n",
    "Seasons=['Winter','Spring','Summer','Rainy Season','Fall']\n",
    "\n",
    "with open('Agri_data.csv', 'w', newline='') as file:\n",
    "     \n",
    "     writer = csv.writer(file)\n",
    "     writer.writerow([\"country\", \"Crop Type\", \"Season\",\"Yield Percentage\",\"Year\",\"Water Levels\",\"Temperature\"])\n",
    "     for i in range(20000):\n",
    "        countrys=random.choice(country)\n",
    "        Crop_Types=random.choice(Crop_Type)\n",
    "        Season=random.choice(Seasons)\n",
    "        Yield_percentage=round(random.uniform(10.2,93.2),2)\n",
    "        Year=random.uniform(2020, 2022)\n",
    "        Water_Levels=round(random.uniform(10.2,93.2),2)\n",
    "        Temperature=round(random.uniform(10.2,93.2),2)\n",
    "        writer.writerow(['{}'.format(countrys), Crop_Types, Season,Yield_percentage,Year,Water_Levels,Temperature])\n",
    "\n",
    "    "
   ]
  },
  {
   "cell_type": "code",
   "execution_count": null,
   "metadata": {},
   "outputs": [],
   "source": []
  }
 ],
 "metadata": {
  "kernelspec": {
   "display_name": "Python 3",
   "language": "python",
   "name": "python3"
  },
  "language_info": {
   "codemirror_mode": {
    "name": "ipython",
    "version": 3
   },
   "file_extension": ".py",
   "mimetype": "text/x-python",
   "name": "python",
   "nbconvert_exporter": "python",
   "pygments_lexer": "ipython3",
   "version": "3.10.7"
  },
  "orig_nbformat": 4
 },
 "nbformat": 4,
 "nbformat_minor": 2
}
